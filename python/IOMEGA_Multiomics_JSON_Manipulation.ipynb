{
 "cells": [
  {
   "cell_type": "code",
   "execution_count": 48,
   "metadata": {},
   "outputs": [],
   "source": [
    "import json\n",
    "import pandas as pd\n",
    "import csv\n",
    "from pandas import read_excel\n",
    "import ftputil\n",
    "import time\n",
    "from Bio import Entrez\n",
    "import sys"
   ]
  },
  {
   "cell_type": "code",
   "execution_count": 27,
   "metadata": {},
   "outputs": [],
   "source": [
    "def get_assembly_id(acc_id):\n",
    "    \"\"\"Get Assembly ID from Accession ID\"\"\"\n",
    "    from Bio import Entrez\n",
    "    handle = Entrez.esearch(db='assembly', term=acc_id)\n",
    "    record = Entrez.read(handle)\n",
    "    handle.close()\n",
    "    assembly = record[\"IdList\"][0]\n",
    "    return assembly\n",
    "\n",
    "def get_assembly_summary(acc_id):\n",
    "    \"\"\"Get esummary from an assembly ID\"\"\"\n",
    "    from Bio import Entrez\n",
    "    #provide your own mail here\n",
    "    Entrez.email = \"carmen.ausejo@sund.ku.dk\" #email\n",
    "    assembly = get_assembly_id(acc_id)\n",
    "    esummary_handle = Entrez.esummary(db=\"assembly\", id=assembly, report=\"full\")\n",
    "    esummary_record = Entrez.read(esummary_handle)\n",
    "    genbank_id = esummary_record['DocumentSummarySet']['DocumentSummary'][0]['Synonym']['Genbank']\n",
    "    refseq_id = esummary_record['DocumentSummarySet']['DocumentSummary'][0]['Synonym']['RefSeq']\n",
    "    return([assembly, genbank_id, refseq_id])"
   ]
  },
  {
   "cell_type": "code",
   "execution_count": 12,
   "metadata": {},
   "outputs": [],
   "source": [
    "#INPUT_TSV_FILENAME = \"../../Bacterial Cultures Catalogue.xlsx\"\n",
    "#INPUT_JSON_FILENAME = \"../../e_lenta_submission_template.json\"\n",
    "\n",
    "#INSTRUMENT_METHOD_LABEL = \"Seed Grant TOF\"\n",
    "#EXTRACTION_METHOD = \"SeedGrant_Extraction\"\n",
    "#SAMPLE_PREP = \"metagenomic_mouse_fecal\""
   ]
  },
  {
   "cell_type": "code",
   "execution_count": 13,
   "metadata": {},
   "outputs": [
    {
     "name": "stdout",
     "output_type": "stream",
     "text": [
      "['Pseudomonas_aeruginosa_SCV20265_uid232358', 'Pseudomonas_aeruginosa_M18_uid162089', 'Enterobacter_aerogenes_EA1509E_uid187411', 'Stenotrophomonas_maltophilia_K279a_uid61647', 'Pseudomonas_aeruginosa_LESB58_uid59275']\n"
     ]
    }
   ],
   "source": [
    "#pairing_df = pd.read_csv(INPUT_TSV_FILENAME, sep=None)\n",
    "#pairing_df.head()\n",
    "\n",
    "#my_sheet = 'CF isolates'\n",
    "#pairing_df = read_excel(INPUT_TSV_FILENAME, sheet_name = my_sheet)\n",
    "#pairing_df = pairing_df.head()\n",
    "#old_refseq = pairing_df['Genome Name / Sample Name'].tolist()\n",
    "#print(old_refseq)"
   ]
  },
  {
   "cell_type": "code",
   "execution_count": null,
   "metadata": {},
   "outputs": [],
   "source": [
    "#pairing_df = pairing_df.head()\n",
    "#old_refseq = pairing_df['Genome Name / Sample Name'].tolist()\n",
    "#print(old_refseq)\n",
    "\n",
    "# Get GenBank ID - NCBI\n",
    "#biosample_dic = {}\n",
    "\n",
    "# Access to ftp NCBI\n",
    "#host = ftputil.FTPHost('ftp.ncbi.nlm.nih.gov', 'anonymous', 'password')\n",
    "#host.use_list_a_option = False\n",
    "\n",
    "#for idx, old_id in enumerate(old_refseq):\n",
    "    try:\n",
    "        biosample_id = get_biosample_id(old_id)\n",
    "        id = get_assembly_summary(biosample_id)\n",
    "        biosample_dic[old_id] = biosample_id + id\n",
    "\n",
    "    except:\n",
    "        print(\"Old Refseq ID not found: \" + old_id)\n",
    "        biosample_dic[old_id] = (['-','-','-','-'])\n",
    "\n",
    "    print(old_id)\n",
    "    print(str(idx + 1) + \"/\" + str(len(old_refseq)))\n",
    "\n",
    "    time.sleep(4)  # Delays for 4 seconds\n"
   ]
  },
  {
   "cell_type": "code",
   "execution_count": 24,
   "metadata": {},
   "outputs": [],
   "source": [
    "INPUT_JSON_FILENAME = \"../../e_lenta_submission_template.json\"\n",
    "\n",
    "INSTRUMENT_METHOD_LABEL = \"Seed Grant TOF\"\n",
    "EXTRACTION_METHOD = \"SeedGrant_Extraction\"\n",
    "SAMPLE_PREP = \"metagenomic_mouse_fecal\""
   ]
  },
  {
   "cell_type": "code",
   "execution_count": 57,
   "metadata": {},
   "outputs": [],
   "source": [
    "INPUT_TSV_FILENAME = \"../../Bacterial Cultures Catalogue.xlsx\"\n",
    "my_sheet = 'Eggerthella lenta strains'\n",
    "tsv_df = read_excel(INPUT_TSV_FILENAME, sheet_name = my_sheet)\n",
    "tsv_df.head()\n",
    "tsv_df = tsv_df.head()"
   ]
  },
  {
   "cell_type": "code",
   "execution_count": 39,
   "metadata": {
    "collapsed": true
   },
   "outputs": [
    {
     "data": {
      "text/html": [
       "<div>\n",
       "<style scoped>\n",
       "    .dataframe tbody tr th:only-of-type {\n",
       "        vertical-align: middle;\n",
       "    }\n",
       "\n",
       "    .dataframe tbody tr th {\n",
       "        vertical-align: top;\n",
       "    }\n",
       "\n",
       "    .dataframe thead th {\n",
       "        text-align: right;\n",
       "    }\n",
       "</style>\n",
       "<table border=\"1\" class=\"dataframe\">\n",
       "  <thead>\n",
       "    <tr style=\"text-align: right;\">\n",
       "      <th></th>\n",
       "      <th>Unnamed: 0</th>\n",
       "      <th>Sales order</th>\n",
       "      <th>Item number</th>\n",
       "      <th>Name</th>\n",
       "      <th>Product</th>\n",
       "      <th>Level</th>\n",
       "      <th>BEI_accn</th>\n",
       "      <th>Organism</th>\n",
       "      <th>Strain_guess</th>\n",
       "      <th>taxon_oid</th>\n",
       "      <th>...</th>\n",
       "      <th>Chromosomal Cassette Gene %</th>\n",
       "      <th>Chromosomal Cassette Count</th>\n",
       "      <th>Biosynthetic Cluster Gene Count * assembled</th>\n",
       "      <th>Biosynthetic Cluster Gene % * assembled</th>\n",
       "      <th>Biosynthetic Cluster Count * assembled</th>\n",
       "      <th>InterPro Count</th>\n",
       "      <th>InterPro %</th>\n",
       "      <th>Unnamed: 215</th>\n",
       "      <th>Match Status</th>\n",
       "      <th>BioSample_accession</th>\n",
       "    </tr>\n",
       "  </thead>\n",
       "  <tbody>\n",
       "    <tr>\n",
       "      <th>0</th>\n",
       "      <td>NaN</td>\n",
       "      <td>NaN</td>\n",
       "      <td>NaN</td>\n",
       "      <td>Pseudomonas_aeruginosa_SCV20265_uid232358</td>\n",
       "      <td>NaN</td>\n",
       "      <td>NaN</td>\n",
       "      <td>NaN</td>\n",
       "      <td>Pseudomonas_aeruginosa_SCV20265_uid232358</td>\n",
       "      <td>SCV20265</td>\n",
       "      <td>NaN</td>\n",
       "      <td>...</td>\n",
       "      <td>NaN</td>\n",
       "      <td>NaN</td>\n",
       "      <td>NaN</td>\n",
       "      <td>NaN</td>\n",
       "      <td>NaN</td>\n",
       "      <td>NaN</td>\n",
       "      <td>NaN</td>\n",
       "      <td>NaN</td>\n",
       "      <td>NaN</td>\n",
       "      <td>SAMN02415141</td>\n",
       "    </tr>\n",
       "    <tr>\n",
       "      <th>1</th>\n",
       "      <td>NaN</td>\n",
       "      <td>NaN</td>\n",
       "      <td>NaN</td>\n",
       "      <td>Pseudomonas_aeruginosa_M18_uid162089</td>\n",
       "      <td>NaN</td>\n",
       "      <td>NaN</td>\n",
       "      <td>NaN</td>\n",
       "      <td>Pseudomonas_aeruginosa_M18_uid162089</td>\n",
       "      <td>M18</td>\n",
       "      <td>NaN</td>\n",
       "      <td>...</td>\n",
       "      <td>NaN</td>\n",
       "      <td>NaN</td>\n",
       "      <td>NaN</td>\n",
       "      <td>NaN</td>\n",
       "      <td>NaN</td>\n",
       "      <td>NaN</td>\n",
       "      <td>NaN</td>\n",
       "      <td>NaN</td>\n",
       "      <td>NaN</td>\n",
       "      <td>SAMN02603849</td>\n",
       "    </tr>\n",
       "    <tr>\n",
       "      <th>2</th>\n",
       "      <td>NaN</td>\n",
       "      <td>NaN</td>\n",
       "      <td>NaN</td>\n",
       "      <td>Enterobacter_aerogenes_EA1509E_uid187411</td>\n",
       "      <td>NaN</td>\n",
       "      <td>NaN</td>\n",
       "      <td>NaN</td>\n",
       "      <td>Enterobacter_aerogenes_EA1509E_uid187411</td>\n",
       "      <td>EA1509E</td>\n",
       "      <td>NaN</td>\n",
       "      <td>...</td>\n",
       "      <td>NaN</td>\n",
       "      <td>NaN</td>\n",
       "      <td>NaN</td>\n",
       "      <td>NaN</td>\n",
       "      <td>NaN</td>\n",
       "      <td>NaN</td>\n",
       "      <td>NaN</td>\n",
       "      <td>NaN</td>\n",
       "      <td>NaN</td>\n",
       "      <td>SAMEA3138432</td>\n",
       "    </tr>\n",
       "    <tr>\n",
       "      <th>3</th>\n",
       "      <td>NaN</td>\n",
       "      <td>NaN</td>\n",
       "      <td>NaN</td>\n",
       "      <td>Stenotrophomonas_maltophilia_K279a_uid61647</td>\n",
       "      <td>NaN</td>\n",
       "      <td>NaN</td>\n",
       "      <td>NaN</td>\n",
       "      <td>Stenotrophomonas_maltophilia_K279a_uid61647</td>\n",
       "      <td>K279a</td>\n",
       "      <td>NaN</td>\n",
       "      <td>...</td>\n",
       "      <td>NaN</td>\n",
       "      <td>NaN</td>\n",
       "      <td>NaN</td>\n",
       "      <td>NaN</td>\n",
       "      <td>NaN</td>\n",
       "      <td>NaN</td>\n",
       "      <td>NaN</td>\n",
       "      <td>NaN</td>\n",
       "      <td>NaN</td>\n",
       "      <td>SAMEA1705934</td>\n",
       "    </tr>\n",
       "    <tr>\n",
       "      <th>4</th>\n",
       "      <td>NaN</td>\n",
       "      <td>NaN</td>\n",
       "      <td>NaN</td>\n",
       "      <td>Pseudomonas_aeruginosa_LESB58_uid59275</td>\n",
       "      <td>NaN</td>\n",
       "      <td>NaN</td>\n",
       "      <td>NaN</td>\n",
       "      <td>Pseudomonas_aeruginosa_LESB58_uid59275</td>\n",
       "      <td>LESB58</td>\n",
       "      <td>NaN</td>\n",
       "      <td>...</td>\n",
       "      <td>NaN</td>\n",
       "      <td>NaN</td>\n",
       "      <td>NaN</td>\n",
       "      <td>NaN</td>\n",
       "      <td>NaN</td>\n",
       "      <td>NaN</td>\n",
       "      <td>NaN</td>\n",
       "      <td>NaN</td>\n",
       "      <td>NaN</td>\n",
       "      <td>SAMEA1705916</td>\n",
       "    </tr>\n",
       "  </tbody>\n",
       "</table>\n",
       "<p>5 rows × 231 columns</p>\n",
       "</div>"
      ],
      "text/plain": [
       "   Unnamed: 0  Sales order  Item number  \\\n",
       "0         NaN          NaN          NaN   \n",
       "1         NaN          NaN          NaN   \n",
       "2         NaN          NaN          NaN   \n",
       "3         NaN          NaN          NaN   \n",
       "4         NaN          NaN          NaN   \n",
       "\n",
       "                                          Name  Product  Level  BEI_accn  \\\n",
       "0    Pseudomonas_aeruginosa_SCV20265_uid232358      NaN    NaN       NaN   \n",
       "1         Pseudomonas_aeruginosa_M18_uid162089      NaN    NaN       NaN   \n",
       "2     Enterobacter_aerogenes_EA1509E_uid187411      NaN    NaN       NaN   \n",
       "3  Stenotrophomonas_maltophilia_K279a_uid61647      NaN    NaN       NaN   \n",
       "4       Pseudomonas_aeruginosa_LESB58_uid59275      NaN    NaN       NaN   \n",
       "\n",
       "                                      Organism Strain_guess  taxon_oid  ...  \\\n",
       "0    Pseudomonas_aeruginosa_SCV20265_uid232358     SCV20265        NaN  ...   \n",
       "1         Pseudomonas_aeruginosa_M18_uid162089          M18        NaN  ...   \n",
       "2     Enterobacter_aerogenes_EA1509E_uid187411      EA1509E        NaN  ...   \n",
       "3  Stenotrophomonas_maltophilia_K279a_uid61647        K279a        NaN  ...   \n",
       "4       Pseudomonas_aeruginosa_LESB58_uid59275       LESB58        NaN  ...   \n",
       "\n",
       "  Chromosomal Cassette Gene %  Chromosomal Cassette Count  \\\n",
       "0                         NaN                         NaN   \n",
       "1                         NaN                         NaN   \n",
       "2                         NaN                         NaN   \n",
       "3                         NaN                         NaN   \n",
       "4                         NaN                         NaN   \n",
       "\n",
       "   Biosynthetic Cluster Gene Count * assembled  \\\n",
       "0                                          NaN   \n",
       "1                                          NaN   \n",
       "2                                          NaN   \n",
       "3                                          NaN   \n",
       "4                                          NaN   \n",
       "\n",
       "  Biosynthetic Cluster Gene % * assembled  \\\n",
       "0                                     NaN   \n",
       "1                                     NaN   \n",
       "2                                     NaN   \n",
       "3                                     NaN   \n",
       "4                                     NaN   \n",
       "\n",
       "   Biosynthetic Cluster Count * assembled  InterPro Count InterPro %  \\\n",
       "0                                     NaN             NaN        NaN   \n",
       "1                                     NaN             NaN        NaN   \n",
       "2                                     NaN             NaN        NaN   \n",
       "3                                     NaN             NaN        NaN   \n",
       "4                                     NaN             NaN        NaN   \n",
       "\n",
       "  Unnamed: 215 Match Status BioSample_accession  \n",
       "0          NaN          NaN        SAMN02415141  \n",
       "1          NaN          NaN        SAMN02603849  \n",
       "2          NaN          NaN        SAMEA3138432  \n",
       "3          NaN          NaN        SAMEA1705934  \n",
       "4          NaN          NaN        SAMEA1705916  \n",
       "\n",
       "[5 rows x 231 columns]"
      ]
     },
     "execution_count": 39,
     "metadata": {},
     "output_type": "execute_result"
    }
   ],
   "source": [
    "INPUT_TSV_FILENAME = \"../../CF_isolates_BioSampleID.csv\"\n",
    "tsv_df = pd.read_csv(INPUT_TSV_FILENAME, sep='\\t')\n",
    "tsv_df.head()"
   ]
  },
  {
   "cell_type": "code",
   "execution_count": 58,
   "metadata": {
    "scrolled": true
   },
   "outputs": [
    {
     "name": "stdout",
     "output_type": "stream",
     "text": [
      "SAMN08365960\n",
      "1/5\n",
      "SAMN08365961\n",
      "2/5\n",
      "SAMN08365962\n",
      "3/5\n",
      "SAMN08365964\n",
      "4/5\n",
      "SAMN08365965\n",
      "5/5\n"
     ]
    }
   ],
   "source": [
    "list_acc = tsv_df['Biosample Accession'].tolist()\n",
    "genbank_dic = {}\n",
    "\n",
    "for idx,acc_id in enumerate(list_acc):\n",
    "    try:\n",
    "        genbank_dic[acc_id] = (get_assembly_summary(acc_id))\n",
    "    except:\n",
    "        print(\"Accesion ID not found: \" + acc_id)\n",
    "        genbank_dic[acc_id] = (['-', '-', '-'])\n",
    "\n",
    "    print(acc_id)\n",
    "    print( str(idx+1) + \"/\" + str(len(list_acc)))\n",
    "\n",
    "    time.sleep(4)  # Delays for 4 seconds\n"
   ]
  },
  {
   "cell_type": "code",
   "execution_count": 59,
   "metadata": {},
   "outputs": [
    {
     "name": "stdout",
     "output_type": "stream",
     "text": [
      "{'SAMN08365960': ['1834351', 'GCA_003340245.1', 'GCF_003340245.1'], 'SAMN08365961': ['1834361', 'GCA_003340255.1', 'GCF_003340255.1'], 'SAMN08365962': ['1834341', 'GCA_003340225.1', 'GCF_003340225.1'], 'SAMN08365964': ['1834321', 'GCA_003340195.1', 'GCF_003340195.1'], 'SAMN08365965': ['1834311', 'GCA_003340165.1', 'GCF_003340165.1']}\n",
      "   Unnamed: 0  Sales order  Item number                   Name   Product  \\\n",
      "0         NaN          NaN          NaN  Eggerthella_lenta_11C  Bacteria   \n",
      "1         NaN          NaN          NaN  Eggerthella_lenta_14A  Bacteria   \n",
      "2         NaN          NaN          NaN  Eggerthella_lenta_16A  Bacteria   \n",
      "3         NaN          NaN          NaN  Eggerthella_lenta_22C  Bacteria   \n",
      "4         NaN          NaN          NaN  Eggerthella_lenta_28B  Bacteria   \n",
      "\n",
      "   Level  BEI_accn               Organism Strain_guess  taxon_oid  ...  \\\n",
      "0    NaN       NaN  Eggerthella lenta 11C          11C      84112  ...   \n",
      "1    NaN       NaN  Eggerthella lenta 14A          14A      84112  ...   \n",
      "2    NaN       NaN  Eggerthella lenta 16A          16A      84112  ...   \n",
      "3    NaN       NaN  Eggerthella lenta 22C          22C      84112  ...   \n",
      "4    NaN       NaN  Eggerthella lenta 28B          28B      84112  ...   \n",
      "\n",
      "  Biosynthetic Cluster Gene Count * assembled  \\\n",
      "0                                         NaN   \n",
      "1                                         NaN   \n",
      "2                                         NaN   \n",
      "3                                         NaN   \n",
      "4                                         NaN   \n",
      "\n",
      "  Biosynthetic Cluster Gene % * assembled  \\\n",
      "0                                     NaN   \n",
      "1                                     NaN   \n",
      "2                                     NaN   \n",
      "3                                     NaN   \n",
      "4                                     NaN   \n",
      "\n",
      "  Biosynthetic Cluster Count * assembled InterPro Count InterPro %  \\\n",
      "0                                    NaN            NaN        NaN   \n",
      "1                                    NaN            NaN        NaN   \n",
      "2                                    NaN            NaN        NaN   \n",
      "3                                    NaN            NaN        NaN   \n",
      "4                                    NaN            NaN        NaN   \n",
      "\n",
      "   Unnamed: 215 Match Status Assembly_ID       GenBank_ID        RefSeq_ID  \n",
      "0           NaN          NaN     1834351  GCA_003340245.1  GCF_003340245.1  \n",
      "1           NaN          NaN     1834361  GCA_003340255.1  GCF_003340255.1  \n",
      "2           NaN          NaN     1834341  GCA_003340225.1  GCF_003340225.1  \n",
      "3           NaN          NaN     1834321  GCA_003340195.1  GCF_003340195.1  \n",
      "4           NaN          NaN     1834311  GCA_003340165.1  GCF_003340165.1  \n",
      "\n",
      "[5 rows x 233 columns]\n"
     ]
    }
   ],
   "source": [
    "print(genbank_dic)\n",
    "entrez_df = pd.DataFrame(genbank_dic.items(), columns=['Biosample Accession','esummary_record'])\n",
    "entrez_df[['Assembly_ID', 'GenBank_ID', 'RefSeq_ID']]= pd.DataFrame(entrez_df.esummary_record.values.tolist(), index= entrez_df.index)\n",
    "entrez_df = entrez_df[['Biosample Accession','Assembly_ID', 'GenBank_ID', 'RefSeq_ID']]\n",
    "pairing_df = tsv_df.merge(entrez_df, on=['Biosample Accession'])\n",
    "print(pairing_df)"
   ]
  },
  {
   "cell_type": "code",
   "execution_count": 60,
   "metadata": {},
   "outputs": [],
   "source": [
    "template_json = json.loads(open(INPUT_JSON_FILENAME).read())"
   ]
  },
  {
   "cell_type": "code",
   "execution_count": 61,
   "metadata": {},
   "outputs": [],
   "source": [
    "# Preparing the genome tables\n",
    "\n",
    "all_genome_links = []\n",
    "for pair in pairing_df.to_dict(orient=\"records\"):\n",
    "    genome_dict = {}\n",
    "    genome_dict[\"genome_label\"] = pair[\"Genome Name / Sample Name\"]\n",
    "    genome_dict[\"genome_ID\"] = {\n",
    "        \"genome_type\" : \"metagenome\",\n",
    "        \"GenBank_NCBI_accession\" : pair[\"GenBank_ID\"]\n",
    "    }\n",
    "    genome_dict[\"BioSample_accession\"] = pair[\"Biosample Accession\"]\n",
    "    all_genome_links.append(genome_dict)"
   ]
  },
  {
   "cell_type": "code",
   "execution_count": 62,
   "metadata": {},
   "outputs": [
    {
     "name": "stdout",
     "output_type": "stream",
     "text": [
      "[{'genome_label': 'Eggerthella_lenta_11C', 'genome_ID': {'genome_type': 'metagenome', 'GenBank_NCBI_accession': 'GCA_003340245.1'}, 'BioSample_accession': 'SAMN08365960'}, {'genome_label': 'Eggerthella_lenta_14A', 'genome_ID': {'genome_type': 'metagenome', 'GenBank_NCBI_accession': 'GCA_003340255.1'}, 'BioSample_accession': 'SAMN08365961'}, {'genome_label': 'Eggerthella_lenta_16A', 'genome_ID': {'genome_type': 'metagenome', 'GenBank_NCBI_accession': 'GCA_003340225.1'}, 'BioSample_accession': 'SAMN08365962'}, {'genome_label': 'Eggerthella_lenta_22C', 'genome_ID': {'genome_type': 'metagenome', 'GenBank_NCBI_accession': 'GCA_003340195.1'}, 'BioSample_accession': 'SAMN08365964'}, {'genome_label': 'Eggerthella_lenta_28B', 'genome_ID': {'genome_type': 'metagenome', 'GenBank_NCBI_accession': 'GCA_003340165.1'}, 'BioSample_accession': 'SAMN08365965'}]\n"
     ]
    }
   ],
   "source": [
    "print(all_genome_links)"
   ]
  },
  {
   "cell_type": "code",
   "execution_count": 64,
   "metadata": {},
   "outputs": [],
   "source": [
    "# Preparing the join table\n",
    "\n",
    "all_paired_links = []\n",
    "for pair in pairing_df.to_dict(orient=\"records\"):\n",
    "    link_dict = {}\n",
    "    link_dict[\"genome_label\"] = pair[\"Genome Name / Sample Name\"]\n",
    "    #link_dict[\"metabolomics_file\"] = pair[\"MS data accession, Sputum/ASM Media (data in MSV000080251)\"]\n",
    "    link_dict[\"metabolomics_file\"] = pair[\"MS data accession, BHI media strains (data in MSV000082045)\"]\n",
    "    link_dict[\"sample_preparation_label\"] = SAMPLE_PREP\n",
    "    link_dict[\"extraction_method_label\"] = EXTRACTION_METHOD\n",
    "    link_dict[\"instrumentation_method_label\"] = INSTRUMENT_METHOD_LABEL\n",
    "    \n",
    "    all_paired_links.append(link_dict)\n",
    "    "
   ]
  },
  {
   "cell_type": "code",
   "execution_count": 65,
   "metadata": {},
   "outputs": [
    {
     "name": "stdout",
     "output_type": "stream",
     "text": [
      "[{'genome_label': 'Eggerthella_lenta_11C', 'metabolomics_file': nan, 'sample_preparation_label': 'metagenomic_mouse_fecal', 'extraction_method_label': 'SeedGrant_Extraction', 'instrumentation_method_label': 'Seed Grant TOF'}, {'genome_label': 'Eggerthella_lenta_14A', 'metabolomics_file': nan, 'sample_preparation_label': 'metagenomic_mouse_fecal', 'extraction_method_label': 'SeedGrant_Extraction', 'instrumentation_method_label': 'Seed Grant TOF'}, {'genome_label': 'Eggerthella_lenta_16A', 'metabolomics_file': nan, 'sample_preparation_label': 'metagenomic_mouse_fecal', 'extraction_method_label': 'SeedGrant_Extraction', 'instrumentation_method_label': 'Seed Grant TOF'}, {'genome_label': 'Eggerthella_lenta_22C', 'metabolomics_file': nan, 'sample_preparation_label': 'metagenomic_mouse_fecal', 'extraction_method_label': 'SeedGrant_Extraction', 'instrumentation_method_label': 'Seed Grant TOF'}, {'genome_label': 'Eggerthella_lenta_28B', 'metabolomics_file': nan, 'sample_preparation_label': 'metagenomic_mouse_fecal', 'extraction_method_label': 'SeedGrant_Extraction', 'instrumentation_method_label': 'Seed Grant TOF'}]\n"
     ]
    }
   ],
   "source": [
    "print(all_paired_links)"
   ]
  },
  {
   "cell_type": "code",
   "execution_count": 66,
   "metadata": {},
   "outputs": [],
   "source": [
    "# Merging it all together\n",
    "\n",
    "template_json[\"genomes\"] = all_genome_links\n",
    "template_json[\"genome_metabolome_links\"] = all_paired_links\n",
    "with open(\"../../e_lenta_strains_json.json\", \"w\") as output_file:\n",
    "    output_file.write(json.dumps(template_json))"
   ]
  },
  {
   "cell_type": "code",
   "execution_count": 67,
   "metadata": {},
   "outputs": [
    {
     "name": "stdout",
     "output_type": "stream",
     "text": [
      "{'version': '1', 'personal': {'submitter_name': 'Alexander Aksenov', 'submitter_orcid': 'https://orcid.org/0000-0002-9445-2248', 'PI_name': 'aaaksenov@ucsd.edu', 'PI_institution': 'University of California, San Diego', 'PI_email': 'pdorrestein@health.ucsd.edu'}, 'metabolomics': {'project': {'GNPSMassIVE_ID': 'MSV000083734', 'MaSSIVE_URL': 'https://gnps.ucsd.edu/ProteoSAFe/result.jsp?task=d80e741723a143348e0f196065427e57&view=advanced_view', 'molecular_network': '85c9922a8b8548e3a537dda24301673f'}}, 'experimental': {'sample_preparation': [{'medium_details': {'medium_type': 'liquid', 'medium': 'other', 'Other_medium': 'Brain Heart Infusion (BHI) Broth', 'Other_medium_link': 'https://microbeonline.com/brain-heart-infusion-bhi-broth-composition-preparation-and-uses/'}, 'growth_parameters': {}, 'aeration': {}, 'sample_preparation_method': 'E Lenta'}], 'extraction_methods': [{'extracted_material': 'cells_supernatant', 'resins': 'Oasis HLB', 'extraction_method': 'Oasis HLB', 'solvents': [{'ratio': 1, 'solvent': 'http://purl.obolibrary.org/obo/CHEBI_16236'}]}], 'instrumentation_methods': [{'instrumentation': {'instrument': 'http://purl.obolibrary.org/obo/MS_1000084'}, 'column': 'Reverse Phase', 'mode': 'http://purl.obolibrary.org/obo/MS_1000130', 'ionization': {'ionization_type': 'http://purl.obolibrary.org/obo/MS_1000073'}, 'range': '80-2000', 'collision_energy': '3', 'buffering': '0.1% formic acid', 'instrumentation_method': 'qToF'}]}, 'genomes': [{'genome_label': 'Eggerthella_lenta_11C', 'genome_ID': {'genome_type': 'metagenome', 'GenBank_NCBI_accession': 'GCA_003340245.1'}, 'BioSample_accession': 'SAMN08365960'}, {'genome_label': 'Eggerthella_lenta_14A', 'genome_ID': {'genome_type': 'metagenome', 'GenBank_NCBI_accession': 'GCA_003340255.1'}, 'BioSample_accession': 'SAMN08365961'}, {'genome_label': 'Eggerthella_lenta_16A', 'genome_ID': {'genome_type': 'metagenome', 'GenBank_NCBI_accession': 'GCA_003340225.1'}, 'BioSample_accession': 'SAMN08365962'}, {'genome_label': 'Eggerthella_lenta_22C', 'genome_ID': {'genome_type': 'metagenome', 'GenBank_NCBI_accession': 'GCA_003340195.1'}, 'BioSample_accession': 'SAMN08365964'}, {'genome_label': 'Eggerthella_lenta_28B', 'genome_ID': {'genome_type': 'metagenome', 'GenBank_NCBI_accession': 'GCA_003340165.1'}, 'BioSample_accession': 'SAMN08365965'}], 'genome_metabolome_links': [{'genome_label': 'Eggerthella_lenta_11C', 'metabolomics_file': nan, 'sample_preparation_label': 'metagenomic_mouse_fecal', 'extraction_method_label': 'SeedGrant_Extraction', 'instrumentation_method_label': 'Seed Grant TOF'}, {'genome_label': 'Eggerthella_lenta_14A', 'metabolomics_file': nan, 'sample_preparation_label': 'metagenomic_mouse_fecal', 'extraction_method_label': 'SeedGrant_Extraction', 'instrumentation_method_label': 'Seed Grant TOF'}, {'genome_label': 'Eggerthella_lenta_16A', 'metabolomics_file': nan, 'sample_preparation_label': 'metagenomic_mouse_fecal', 'extraction_method_label': 'SeedGrant_Extraction', 'instrumentation_method_label': 'Seed Grant TOF'}, {'genome_label': 'Eggerthella_lenta_22C', 'metabolomics_file': nan, 'sample_preparation_label': 'metagenomic_mouse_fecal', 'extraction_method_label': 'SeedGrant_Extraction', 'instrumentation_method_label': 'Seed Grant TOF'}, {'genome_label': 'Eggerthella_lenta_28B', 'metabolomics_file': nan, 'sample_preparation_label': 'metagenomic_mouse_fecal', 'extraction_method_label': 'SeedGrant_Extraction', 'instrumentation_method_label': 'Seed Grant TOF'}]}\n"
     ]
    }
   ],
   "source": [
    "print(template_json)"
   ]
  },
  {
   "cell_type": "code",
   "execution_count": null,
   "metadata": {},
   "outputs": [],
   "source": []
  }
 ],
 "metadata": {
  "kernelspec": {
   "display_name": "Python 3",
   "language": "python",
   "name": "python3"
  },
  "language_info": {
   "codemirror_mode": {
    "name": "ipython",
    "version": 3
   },
   "file_extension": ".py",
   "mimetype": "text/x-python",
   "name": "python",
   "nbconvert_exporter": "python",
   "pygments_lexer": "ipython3",
   "version": "3.7.4"
  }
 },
 "nbformat": 4,
 "nbformat_minor": 4
}
