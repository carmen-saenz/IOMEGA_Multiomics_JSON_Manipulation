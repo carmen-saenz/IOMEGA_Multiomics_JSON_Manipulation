{
 "cells": [
  {
   "cell_type": "code",
   "execution_count": 1,
   "metadata": {},
   "outputs": [],
   "source": [
    "import json\n",
    "import pandas as pd\n",
    "import csv\n",
    "from pandas import read_excel\n",
    "import ftputil\n",
    "import time\n",
    "from Bio import Entrez\n",
    "import sys"
   ]
  },
  {
   "cell_type": "code",
   "execution_count": 3,
   "metadata": {},
   "outputs": [],
   "source": [
    "def get_assembly_id(acc_id):\n",
    "    \"\"\"Get Assembly ID from Accession ID\"\"\"\n",
    "    from Bio import Entrez\n",
    "    handle = Entrez.esearch(db='assembly', term=acc_id)\n",
    "    record = Entrez.read(handle)\n",
    "    handle.close()\n",
    "    assembly = record[\"IdList\"][0]\n",
    "    return assembly\n",
    "\n",
    "def get_assembly_summary(acc_id):\n",
    "    \"\"\"Get esummary from an assembly ID\"\"\"\n",
    "    from Bio import Entrez\n",
    "    #provide your own mail here\n",
    "    Entrez.email = \"carmen.ausejo@sund.ku.dk\" #email\n",
    "    assembly = get_assembly_id(acc_id)\n",
    "    esummary_handle = Entrez.esummary(db=\"assembly\", id=assembly, report=\"full\")\n",
    "    esummary_record = Entrez.read(esummary_handle)\n",
    "    genbank_id = esummary_record['DocumentSummarySet']['DocumentSummary'][0]['Synonym']['Genbank']\n",
    "    refseq_id = esummary_record['DocumentSummarySet']['DocumentSummary'][0]['Synonym']['RefSeq']\n",
    "    return([assembly, genbank_id, refseq_id])"
   ]
  },
  {
   "cell_type": "code",
   "execution_count": 6,
   "metadata": {},
   "outputs": [],
   "source": [
    "INPUT_TSV_FILENAME = \"../../CF_isolates_BioSampleID.csv\"\n",
    "tsv_df = pd.read_csv(INPUT_TSV_FILENAME, sep='\\t')\n",
    "tsv_df = tsv_df.head()"
   ]
  },
  {
   "cell_type": "code",
   "execution_count": 5,
   "metadata": {},
   "outputs": [],
   "source": [
    "INPUT_JSON_FILENAME = \"../../paired_datarecord_preview_id.json\"\n",
    "\n",
    "INSTRUMENT_METHOD_LABEL ='qToF' #\"Seed Grant TOF\"\n",
    "EXTRACTION_METHOD = 'Methanol' # \"SeedGrant_Extraction\"\n",
    "SAMPLE_PREP = 'THA media' #\"metagenomic_mouse_fecal\"\n",
    "\n",
    "template_json = json.loads(open(INPUT_JSON_FILENAME).read())"
   ]
  },
  {
   "cell_type": "code",
   "execution_count": 7,
   "metadata": {},
   "outputs": [
    {
     "name": "stdout",
     "output_type": "stream",
     "text": [
      "SAMN02415141\n",
      "1/5\n",
      "SAMN02603849\n",
      "2/5\n",
      "SAMEA3138432\n",
      "3/5\n",
      "SAMEA1705934\n",
      "4/5\n",
      "SAMEA1705916\n",
      "5/5\n"
     ]
    }
   ],
   "source": [
    "list_acc = tsv_df['Biosample Accession'].tolist()\n",
    "genbank_dic = {}\n",
    "\n",
    "for idx,acc_id in enumerate(list_acc):\n",
    "    try:\n",
    "        genbank_dic[acc_id] = (get_assembly_summary(acc_id))\n",
    "    except:\n",
    "        print(\"Accesion ID not found: \" + acc_id)\n",
    "        genbank_dic[acc_id] = (['-', '-', '-'])\n",
    "\n",
    "    print(acc_id)\n",
    "    print( str(idx+1) + \"/\" + str(len(list_acc)))\n",
    "\n",
    "    time.sleep(4) "
   ]
  },
  {
   "cell_type": "code",
   "execution_count": 8,
   "metadata": {},
   "outputs": [
    {
     "name": "stdout",
     "output_type": "stream",
     "text": [
      "{'SAMN02415141': ['87511', 'GCA_000510305.1', 'GCF_000510305.1'], 'SAMN02603849': ['376268', 'GCA_000226155.1', 'GCF_000226155.1'], 'SAMEA3138432': ['530308', 'GCA_000334515.1', 'GCF_000334515.1'], 'SAMEA1705934': ['91088', 'GCA_000072485.1', 'GCF_000072485.1'], 'SAMEA1705916': ['45568', 'GCA_000026645.1', 'GCF_000026645.1']}\n",
      "                     Genome Name / Sample Name  Unnamed: 0  Sales order  \\\n",
      "0    Pseudomonas_aeruginosa_SCV20265_uid232358         NaN          NaN   \n",
      "1         Pseudomonas_aeruginosa_M18_uid162089         NaN          NaN   \n",
      "2     Enterobacter_aerogenes_EA1509E_uid187411         NaN          NaN   \n",
      "3  Stenotrophomonas_maltophilia_K279a_uid61647         NaN          NaN   \n",
      "4       Pseudomonas_aeruginosa_LESB58_uid59275         NaN          NaN   \n",
      "\n",
      "   Item number                                         Name  Product  Level  \\\n",
      "0          NaN    Pseudomonas_aeruginosa_SCV20265_uid232358      NaN    NaN   \n",
      "1          NaN         Pseudomonas_aeruginosa_M18_uid162089      NaN    NaN   \n",
      "2          NaN     Enterobacter_aerogenes_EA1509E_uid187411      NaN    NaN   \n",
      "3          NaN  Stenotrophomonas_maltophilia_K279a_uid61647      NaN    NaN   \n",
      "4          NaN       Pseudomonas_aeruginosa_LESB58_uid59275      NaN    NaN   \n",
      "\n",
      "   BEI_accn                                     Organism Strain_guess  ...  \\\n",
      "0       NaN    Pseudomonas_aeruginosa_SCV20265_uid232358     SCV20265  ...   \n",
      "1       NaN         Pseudomonas_aeruginosa_M18_uid162089          M18  ...   \n",
      "2       NaN     Enterobacter_aerogenes_EA1509E_uid187411      EA1509E  ...   \n",
      "3       NaN  Stenotrophomonas_maltophilia_K279a_uid61647        K279a  ...   \n",
      "4       NaN       Pseudomonas_aeruginosa_LESB58_uid59275       LESB58  ...   \n",
      "\n",
      "   Biosynthetic Cluster Gene Count * assembled  \\\n",
      "0                                          NaN   \n",
      "1                                          NaN   \n",
      "2                                          NaN   \n",
      "3                                          NaN   \n",
      "4                                          NaN   \n",
      "\n",
      "  Biosynthetic Cluster Gene % * assembled  \\\n",
      "0                                     NaN   \n",
      "1                                     NaN   \n",
      "2                                     NaN   \n",
      "3                                     NaN   \n",
      "4                                     NaN   \n",
      "\n",
      "   Biosynthetic Cluster Count * assembled  InterPro Count  InterPro %  \\\n",
      "0                                     NaN             NaN         NaN   \n",
      "1                                     NaN             NaN         NaN   \n",
      "2                                     NaN             NaN         NaN   \n",
      "3                                     NaN             NaN         NaN   \n",
      "4                                     NaN             NaN         NaN   \n",
      "\n",
      "   Unnamed: 215 Match Status Assembly_ID       GenBank_ID        RefSeq_ID  \n",
      "0           NaN          NaN       87511  GCA_000510305.1  GCF_000510305.1  \n",
      "1           NaN          NaN      376268  GCA_000226155.1  GCF_000226155.1  \n",
      "2           NaN          NaN      530308  GCA_000334515.1  GCF_000334515.1  \n",
      "3           NaN          NaN       91088  GCA_000072485.1  GCF_000072485.1  \n",
      "4           NaN          NaN       45568  GCA_000026645.1  GCF_000026645.1  \n",
      "\n",
      "[5 rows x 233 columns]\n"
     ]
    }
   ],
   "source": [
    "print(genbank_dic)\n",
    "entrez_df = pd.DataFrame(genbank_dic.items(), columns=['Biosample Accession','esummary_record'])\n",
    "entrez_df[['Assembly_ID', 'GenBank_ID', 'RefSeq_ID']]= pd.DataFrame(entrez_df.esummary_record.values.tolist(), index= entrez_df.index)\n",
    "entrez_df = entrez_df[['Biosample Accession','Assembly_ID', 'GenBank_ID', 'RefSeq_ID']]\n",
    "pairing_df = tsv_df.merge(entrez_df, on=['Biosample Accession'])\n",
    "print(pairing_df.head())"
   ]
  },
  {
   "cell_type": "code",
   "execution_count": 9,
   "metadata": {},
   "outputs": [],
   "source": [
    "# Preparing the genome tables\n",
    "\n",
    "all_genome_links = []\n",
    "for pair in pairing_df.to_dict(orient=\"records\"):\n",
    "    genome_dict = {}\n",
    "    genome_dict[\"genome_label\"] = pair[\"Biosample Accession\"]\n",
    "    genome_dict[\"genome_ID\"] = {\n",
    "        \"genome_type\" : \"metagenome\",\n",
    "        \"GenBank_NCBI_accession\" : pair[\"GenBank_ID\"]\n",
    "    }\n",
    "    genome_dict[\"BioSample_accession\"] = pair[\"Biosample Accession\"]\n",
    "    all_genome_links.append(genome_dict)"
   ]
  },
  {
   "cell_type": "code",
   "execution_count": 10,
   "metadata": {},
   "outputs": [
    {
     "name": "stdout",
     "output_type": "stream",
     "text": [
      "[{'genome_label': 'SAMN02415141', 'genome_ID': {'genome_type': 'metagenome', 'GenBank_NCBI_accession': 'GCA_000510305.1'}, 'BioSample_accession': 'SAMN02415141'}, {'genome_label': 'SAMN02603849', 'genome_ID': {'genome_type': 'metagenome', 'GenBank_NCBI_accession': 'GCA_000226155.1'}, 'BioSample_accession': 'SAMN02603849'}, {'genome_label': 'SAMEA3138432', 'genome_ID': {'genome_type': 'metagenome', 'GenBank_NCBI_accession': 'GCA_000334515.1'}, 'BioSample_accession': 'SAMEA3138432'}, {'genome_label': 'SAMEA1705934', 'genome_ID': {'genome_type': 'metagenome', 'GenBank_NCBI_accession': 'GCA_000072485.1'}, 'BioSample_accession': 'SAMEA1705934'}, {'genome_label': 'SAMEA1705916', 'genome_ID': {'genome_type': 'metagenome', 'GenBank_NCBI_accession': 'GCA_000026645.1'}, 'BioSample_accession': 'SAMEA1705916'}]\n"
     ]
    }
   ],
   "source": [
    "print(all_genome_links)"
   ]
  },
  {
   "cell_type": "code",
   "execution_count": 11,
   "metadata": {},
   "outputs": [],
   "source": [
    "# Preparing the join table\n",
    "\n",
    "all_paired_links = []\n",
    "for pair in pairing_df.to_dict(orient=\"records\"):\n",
    "    link_dict = {}\n",
    "    link_dict[\"genome_label\"] = pair[\"Biosample Accession\"]\n",
    "    link_dict[\"metabolomics_file\"] = pair[\"MS data accession, Sputum/ASM Media (data in MSV000080251)\"]\n",
    "    link_dict[\"sample_preparation_label\"] = SAMPLE_PREP\n",
    "    link_dict[\"extraction_method_label\"] = EXTRACTION_METHOD\n",
    "    link_dict[\"instrumentation_method_label\"] = INSTRUMENT_METHOD_LABEL\n",
    "    \n",
    "    all_paired_links.append(link_dict)"
   ]
  },
  {
   "cell_type": "code",
   "execution_count": 12,
   "metadata": {},
   "outputs": [
    {
     "name": "stdout",
     "output_type": "stream",
     "text": [
      "[{'genome_label': 'SAMN02415141', 'metabolomics_file': 'ftp://massive.ucsd.edu/MSV000080251/peak/CFStrains/Strains/VVP011_TH_GA11_01_27002.mzXML', 'sample_preparation_label': 'metagenomic_mouse_fecal', 'extraction_method_label': 'SeedGrant_Extraction', 'instrumentation_method_label': 'Seed Grant TOF'}, {'genome_label': 'SAMN02603849', 'metabolomics_file': 'ftp://massive.ucsd.edu/MSV000080251/peak/CFStrains/Strains/VVP012_TH_GA12_01_27003.mzXML', 'sample_preparation_label': 'metagenomic_mouse_fecal', 'extraction_method_label': 'SeedGrant_Extraction', 'instrumentation_method_label': 'Seed Grant TOF'}, {'genome_label': 'SAMEA3138432', 'metabolomics_file': 'ftp://massive.ucsd.edu/MSV000080251/peak/CFStrains/Strains/VVP016_TH_GB4_01_27009.mzXML', 'sample_preparation_label': 'metagenomic_mouse_fecal', 'extraction_method_label': 'SeedGrant_Extraction', 'instrumentation_method_label': 'Seed Grant TOF'}, {'genome_label': 'SAMEA1705934', 'metabolomics_file': 'ftp://massive.ucsd.edu/MSV000080251/peak/CFStrains/Strains/VVP017_TH_GB5_01_27010.mzXML', 'sample_preparation_label': 'metagenomic_mouse_fecal', 'extraction_method_label': 'SeedGrant_Extraction', 'instrumentation_method_label': 'Seed Grant TOF'}, {'genome_label': 'SAMEA1705916', 'metabolomics_file': 'ftp://massive.ucsd.edu/MSV000080251/peak/CFStrains/Strains/VVP022_TH_GB10_01_27015.mzXML', 'sample_preparation_label': 'metagenomic_mouse_fecal', 'extraction_method_label': 'SeedGrant_Extraction', 'instrumentation_method_label': 'Seed Grant TOF'}]\n"
     ]
    }
   ],
   "source": [
    "print(all_paired_links)"
   ]
  },
  {
   "cell_type": "code",
   "execution_count": 13,
   "metadata": {},
   "outputs": [],
   "source": [
    "# Merging it all together\n",
    "template_json[\"genomes\"] = all_genome_links\n",
    "template_json[\"genome_metabolome_links\"] = all_paired_links\n",
    "with open(\"../../CF_isolates_json.json\", \"w\") as output_file:\n",
    "    output_file.write(json.dumps(template_json))"
   ]
  },
  {
   "cell_type": "code",
   "execution_count": 14,
   "metadata": {},
   "outputs": [
    {
     "name": "stdout",
     "output_type": "stream",
     "text": [
      "{'version': '1', 'personal': {'submitter_name': 'Alexander Aksenov', 'submitter_orcid': 'https://orcid.org/0000-0002-9445-2248', 'submitter_email': 'aaaksenov@ucsd.edu', 'PI_name': 'Pieter Dorrestein', 'PI_institution': 'University of California, San Diego', 'PI_email': 'pdorrestein@health.ucsd.edu'}, 'metabolomics': {'project': {'GNPSMassIVE_ID': 'MSV000080251', 'MaSSIVE_URL': 'https://gnps.ucsd.edu/ProteoSAFe/result.jsp?task=476c1e7fef5c4f7692f55d298c81a6d7&view=advanced_view'}}, 'experimental': {'sample_preparation': [{'medium_details': {'medium_type': 'liquid', 'medium': 'other', 'Other_medium': 'Todd Hewitt Agar', 'Other_medium_link': 'https://www.sigmaaldrich.com/catalog/product/sial/t1438?lang=en&region=US'}, 'growth_parameters': {}, 'aeration': {}, 'sample_preparation_method': 'THA media'}], 'extraction_methods': [{'solvents': [{'ratio': 1, 'solvent': 'http://purl.obolibrary.org/obo/CHEBI_17790'}], 'extracted_material': 'cells_supernatant', 'extraction_method': 'Methanol'}], 'instrumentation_methods': [{'instrumentation': {'instrument': 'http://purl.obolibrary.org/obo/MS_1000084'}, 'column': 'Reverse Phase', 'mode': 'http://purl.obolibrary.org/obo/MS_1000130', 'ionization': {'ionization_type': 'http://purl.obolibrary.org/obo/MS_1000073'}, 'range': '80-2000', 'buffering': '0.1% FA', 'collision_energy': '3 eV', 'instrumentation_method': 'qToF'}]}, 'genomes': [{'genome_label': 'SAMN02415141', 'genome_ID': {'genome_type': 'metagenome', 'GenBank_NCBI_accession': 'GCA_000510305.1'}, 'BioSample_accession': 'SAMN02415141'}, {'genome_label': 'SAMN02603849', 'genome_ID': {'genome_type': 'metagenome', 'GenBank_NCBI_accession': 'GCA_000226155.1'}, 'BioSample_accession': 'SAMN02603849'}, {'genome_label': 'SAMEA3138432', 'genome_ID': {'genome_type': 'metagenome', 'GenBank_NCBI_accession': 'GCA_000334515.1'}, 'BioSample_accession': 'SAMEA3138432'}, {'genome_label': 'SAMEA1705934', 'genome_ID': {'genome_type': 'metagenome', 'GenBank_NCBI_accession': 'GCA_000072485.1'}, 'BioSample_accession': 'SAMEA1705934'}, {'genome_label': 'SAMEA1705916', 'genome_ID': {'genome_type': 'metagenome', 'GenBank_NCBI_accession': 'GCA_000026645.1'}, 'BioSample_accession': 'SAMEA1705916'}], 'genome_metabolome_links': [{'genome_label': 'SAMN02415141', 'metabolomics_file': 'ftp://massive.ucsd.edu/MSV000080251/peak/CFStrains/Strains/VVP011_TH_GA11_01_27002.mzXML', 'sample_preparation_label': 'metagenomic_mouse_fecal', 'extraction_method_label': 'SeedGrant_Extraction', 'instrumentation_method_label': 'Seed Grant TOF'}, {'genome_label': 'SAMN02603849', 'metabolomics_file': 'ftp://massive.ucsd.edu/MSV000080251/peak/CFStrains/Strains/VVP012_TH_GA12_01_27003.mzXML', 'sample_preparation_label': 'metagenomic_mouse_fecal', 'extraction_method_label': 'SeedGrant_Extraction', 'instrumentation_method_label': 'Seed Grant TOF'}, {'genome_label': 'SAMEA3138432', 'metabolomics_file': 'ftp://massive.ucsd.edu/MSV000080251/peak/CFStrains/Strains/VVP016_TH_GB4_01_27009.mzXML', 'sample_preparation_label': 'metagenomic_mouse_fecal', 'extraction_method_label': 'SeedGrant_Extraction', 'instrumentation_method_label': 'Seed Grant TOF'}, {'genome_label': 'SAMEA1705934', 'metabolomics_file': 'ftp://massive.ucsd.edu/MSV000080251/peak/CFStrains/Strains/VVP017_TH_GB5_01_27010.mzXML', 'sample_preparation_label': 'metagenomic_mouse_fecal', 'extraction_method_label': 'SeedGrant_Extraction', 'instrumentation_method_label': 'Seed Grant TOF'}, {'genome_label': 'SAMEA1705916', 'metabolomics_file': 'ftp://massive.ucsd.edu/MSV000080251/peak/CFStrains/Strains/VVP022_TH_GB10_01_27015.mzXML', 'sample_preparation_label': 'metagenomic_mouse_fecal', 'extraction_method_label': 'SeedGrant_Extraction', 'instrumentation_method_label': 'Seed Grant TOF'}], 'BGC_MS2_links': []}\n"
     ]
    }
   ],
   "source": [
    "print(template_json)"
   ]
  },
  {
   "cell_type": "code",
   "execution_count": null,
   "metadata": {},
   "outputs": [],
   "source": []
  }
 ],
 "metadata": {
  "kernelspec": {
   "display_name": "Python 3",
   "language": "python",
   "name": "python3"
  },
  "language_info": {
   "codemirror_mode": {
    "name": "ipython",
    "version": 3
   },
   "file_extension": ".py",
   "mimetype": "text/x-python",
   "name": "python",
   "nbconvert_exporter": "python",
   "pygments_lexer": "ipython3",
   "version": "3.7.4"
  }
 },
 "nbformat": 4,
 "nbformat_minor": 4
}
